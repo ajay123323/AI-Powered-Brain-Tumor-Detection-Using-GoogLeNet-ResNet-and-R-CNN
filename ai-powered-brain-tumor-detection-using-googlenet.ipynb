{
 "cells": [
  {
   "cell_type": "markdown",
   "id": "5c31dde5",
   "metadata": {
    "papermill": {
     "duration": 0.005449,
     "end_time": "2025-03-10T05:42:01.592622",
     "exception": false,
     "start_time": "2025-03-10T05:42:01.587173",
     "status": "completed"
    },
    "tags": []
   },
   "source": []
  },
  {
   "cell_type": "markdown",
   "id": "c6233c5d",
   "metadata": {
    "papermill": {
     "duration": 0.004386,
     "end_time": "2025-03-10T05:42:01.601896",
     "exception": false,
     "start_time": "2025-03-10T05:42:01.597510",
     "status": "completed"
    },
    "tags": []
   },
   "source": [
    "# AI-Powered Brain Tumor Detection Using GoogLeNet, ResNet, and R-CNN\n",
    "# Abstract Explanation with Models\n",
    "# Brain tumors are one **of the most critical medical conditions affecting the Central Nervous System (CNS), making early detection essential for effective treatment. Traditional MRI-based diagnosis is time-consuming, error-prone, and dependent on the radiologist’s expertise. To address these challenges, this study leverages deep learning models—GoogLeNet, ResNet, and R-CNN—for automated brain tumor classification. The inclusion of Transfer Learning (TL) enhances the models' feature extraction capabilities, leading to higher diagnostic accuracy across different tumor types. This AI-driven approach has the potential to aid radiologists, improve diagnostic precision, and enhance healthcare accessibility."
   ]
  },
  {
   "cell_type": "markdown",
   "id": "7a6cb556",
   "metadata": {
    "papermill": {
     "duration": 0.004444,
     "end_time": "2025-03-10T05:42:01.610956",
     "exception": false,
     "start_time": "2025-03-10T05:42:01.606512",
     "status": "completed"
    },
    "tags": []
   },
   "source": [
    "# Brain Tumor Detection Using Deep Learning (GoogLeNet, ResNet, R-CNN)"
   ]
  },
  {
   "cell_type": "markdown",
   "id": "8af5308b",
   "metadata": {
    "papermill": {
     "duration": 0.004352,
     "end_time": "2025-03-10T05:42:01.619877",
     "exception": false,
     "start_time": "2025-03-10T05:42:01.615525",
     "status": "completed"
    },
    "tags": []
   },
   "source": [
    "![](https://en.wikipedia.org/wiki/Brain_tumor#/media/File:Hirnmetastase_MRT-T1_KM.jpg)"
   ]
  },
  {
   "cell_type": "markdown",
   "id": "643fe504",
   "metadata": {
    "papermill": {
     "duration": 0.004367,
     "end_time": "2025-03-10T05:42:01.628817",
     "exception": false,
     "start_time": "2025-03-10T05:42:01.624450",
     "status": "completed"
    },
    "tags": []
   },
   "source": [
    "## 1. Importing Required Libraries\n",
    "# Import essential libraries for deep learning, image processing, and model training"
   ]
  },
  {
   "cell_type": "code",
   "execution_count": 1,
   "id": "01d2ba1b",
   "metadata": {
    "execution": {
     "iopub.execute_input": "2025-03-10T05:42:01.639139Z",
     "iopub.status.busy": "2025-03-10T05:42:01.638864Z",
     "iopub.status.idle": "2025-03-10T05:42:14.560771Z",
     "shell.execute_reply": "2025-03-10T05:42:14.560083Z"
    },
    "papermill": {
     "duration": 12.928913,
     "end_time": "2025-03-10T05:42:14.562296",
     "exception": false,
     "start_time": "2025-03-10T05:42:01.633383",
     "status": "completed"
    },
    "tags": []
   },
   "outputs": [],
   "source": [
    "import numpy as np\n",
    "import pandas as pd\n",
    "import os\n",
    "import cv2\n",
    "import tensorflow as tf\n",
    "import matplotlib.pyplot as plt\n",
    "from tensorflow.keras.applications import InceptionV3, ResNet50\n",
    "from tensorflow.keras.models import Model\n",
    "from tensorflow.keras.layers import Dense, Dropout, GlobalAveragePooling2D\n",
    "from tensorflow.keras.utils import to_categorical\n",
    "from sklearn.model_selection import train_test_split\n",
    "from sklearn.utils import shuffle"
   ]
  },
  {
   "cell_type": "markdown",
   "id": "4bf28fa0",
   "metadata": {
    "papermill": {
     "duration": 0.00472,
     "end_time": "2025-03-10T05:42:14.572052",
     "exception": false,
     "start_time": "2025-03-10T05:42:14.567332",
     "status": "completed"
    },
    "tags": []
   },
   "source": [
    "## 2. Load Dataset"
   ]
  },
  {
   "cell_type": "markdown",
   "id": "778c171a",
   "metadata": {
    "papermill": {
     "duration": 0.004407,
     "end_time": "2025-03-10T05:42:14.581158",
     "exception": false,
     "start_time": "2025-03-10T05:42:14.576751",
     "status": "completed"
    },
    "tags": []
   },
   "source": [
    "# Define a function to load and preprocess MRI image dataset\n",
    "# This function reads images from their respective class folders, resizes them, and assigns labels"
   ]
  },
  {
   "cell_type": "code",
   "execution_count": 2,
   "id": "43fe9f18",
   "metadata": {
    "execution": {
     "iopub.execute_input": "2025-03-10T05:42:14.591787Z",
     "iopub.status.busy": "2025-03-10T05:42:14.591335Z",
     "iopub.status.idle": "2025-03-10T05:42:14.596550Z",
     "shell.execute_reply": "2025-03-10T05:42:14.595940Z"
    },
    "papermill": {
     "duration": 0.011824,
     "end_time": "2025-03-10T05:42:14.597662",
     "exception": false,
     "start_time": "2025-03-10T05:42:14.585838",
     "status": "completed"
    },
    "tags": []
   },
   "outputs": [],
   "source": [
    "image_size = 224  # Input size for CNN models\n",
    "labels = ['glioma_tumor', 'meningioma_tumor', 'no_tumor', 'pituitary_tumor']\n",
    "\n",
    "def load_data(data_path):\n",
    "    X, Y = [], []\n",
    "    for label in labels:\n",
    "        folder_path = os.path.join(data_path, label)\n",
    "        if not os.path.exists(folder_path):\n",
    "            print(f\"Warning: Folder not found - {folder_path}\")\n",
    "            continue\n",
    "        for img_name in os.listdir(folder_path):\n",
    "            img_path = os.path.join(folder_path, img_name)\n",
    "            img = cv2.imread(img_path)\n",
    "            if img is None:\n",
    "                print(f\"Warning: Could not read image - {img_path}\")\n",
    "                continue\n",
    "            img = cv2.resize(img, (image_size, image_size))\n",
    "            X.append(img)\n",
    "            Y.append(label)\n",
    "    return np.array(X), np.array(Y)"
   ]
  },
  {
   "cell_type": "markdown",
   "id": "10f7d6d5",
   "metadata": {
    "papermill": {
     "duration": 0.00452,
     "end_time": "2025-03-10T05:42:14.606956",
     "exception": false,
     "start_time": "2025-03-10T05:42:14.602436",
     "status": "completed"
    },
    "tags": []
   },
   "source": [
    "# Load training and testing datasets"
   ]
  },
  {
   "cell_type": "code",
   "execution_count": 3,
   "id": "7a055c95",
   "metadata": {
    "execution": {
     "iopub.execute_input": "2025-03-10T05:42:14.616808Z",
     "iopub.status.busy": "2025-03-10T05:42:14.616603Z",
     "iopub.status.idle": "2025-03-10T05:42:37.618709Z",
     "shell.execute_reply": "2025-03-10T05:42:37.617738Z"
    },
    "papermill": {
     "duration": 23.008824,
     "end_time": "2025-03-10T05:42:37.620431",
     "exception": false,
     "start_time": "2025-03-10T05:42:14.611607",
     "status": "completed"
    },
    "tags": []
   },
   "outputs": [],
   "source": [
    "X_train, Y_train = load_data('../input/brain-tumor-classification-mri/Training')\n",
    "X_test, Y_test = load_data('../input/brain-tumor-classification-mri/Testing')"
   ]
  },
  {
   "cell_type": "markdown",
   "id": "28b3a53f",
   "metadata": {
    "papermill": {
     "duration": 0.00453,
     "end_time": "2025-03-10T05:42:37.630332",
     "exception": false,
     "start_time": "2025-03-10T05:42:37.625802",
     "status": "completed"
    },
    "tags": []
   },
   "source": [
    "## 3. Preprocess Data\n"
   ]
  },
  {
   "cell_type": "markdown",
   "id": "eaa7dad7",
   "metadata": {
    "papermill": {
     "duration": 0.004627,
     "end_time": "2025-03-10T05:42:37.639659",
     "exception": false,
     "start_time": "2025-03-10T05:42:37.635032",
     "status": "completed"
    },
    "tags": []
   },
   "source": [
    "# This step involves normalizing the images and encoding the labels\n",
    "# Normalization ensures the pixel values are scaled between 0 and 1, improving model performance"
   ]
  },
  {
   "cell_type": "code",
   "execution_count": 4,
   "id": "3941c66a",
   "metadata": {
    "execution": {
     "iopub.execute_input": "2025-03-10T05:42:37.649837Z",
     "iopub.status.busy": "2025-03-10T05:42:37.649596Z",
     "iopub.status.idle": "2025-03-10T05:42:39.003402Z",
     "shell.execute_reply": "2025-03-10T05:42:39.002636Z"
    },
    "papermill": {
     "duration": 1.360775,
     "end_time": "2025-03-10T05:42:39.005056",
     "exception": false,
     "start_time": "2025-03-10T05:42:37.644281",
     "status": "completed"
    },
    "tags": []
   },
   "outputs": [],
   "source": [
    "X_train, Y_train = shuffle(X_train, Y_train, random_state=101)\n",
    "X_train, X_test = X_train / 255.0, X_test / 255.0  # Normalize images"
   ]
  },
  {
   "cell_type": "markdown",
   "id": "0bfa2564",
   "metadata": {
    "papermill": {
     "duration": 0.004421,
     "end_time": "2025-03-10T05:42:39.014595",
     "exception": false,
     "start_time": "2025-03-10T05:42:39.010174",
     "status": "completed"
    },
    "tags": []
   },
   "source": [
    "\n",
    "# Convert labels to categorical format for multi-class classification"
   ]
  },
  {
   "cell_type": "code",
   "execution_count": 5,
   "id": "1fe62d79",
   "metadata": {
    "execution": {
     "iopub.execute_input": "2025-03-10T05:42:39.024585Z",
     "iopub.status.busy": "2025-03-10T05:42:39.024353Z",
     "iopub.status.idle": "2025-03-10T05:42:39.029487Z",
     "shell.execute_reply": "2025-03-10T05:42:39.028901Z"
    },
    "papermill": {
     "duration": 0.01162,
     "end_time": "2025-03-10T05:42:39.030737",
     "exception": false,
     "start_time": "2025-03-10T05:42:39.019117",
     "status": "completed"
    },
    "tags": []
   },
   "outputs": [],
   "source": [
    "y_train = to_categorical([labels.index(i) for i in Y_train], num_classes=4)\n",
    "y_test = to_categorical([labels.index(i) for i in Y_test], num_classes=4)"
   ]
  },
  {
   "cell_type": "markdown",
   "id": "211bcae6",
   "metadata": {
    "papermill": {
     "duration": 0.004457,
     "end_time": "2025-03-10T05:42:39.039895",
     "exception": false,
     "start_time": "2025-03-10T05:42:39.035438",
     "status": "completed"
    },
    "tags": []
   },
   "source": [
    "# Split data into training and validation sets (90% training, 10% validation)"
   ]
  },
  {
   "cell_type": "code",
   "execution_count": 6,
   "id": "5d062bb4",
   "metadata": {
    "execution": {
     "iopub.execute_input": "2025-03-10T05:42:39.049757Z",
     "iopub.status.busy": "2025-03-10T05:42:39.049543Z",
     "iopub.status.idle": "2025-03-10T05:42:40.008709Z",
     "shell.execute_reply": "2025-03-10T05:42:40.008006Z"
    },
    "papermill": {
     "duration": 0.965724,
     "end_time": "2025-03-10T05:42:40.010215",
     "exception": false,
     "start_time": "2025-03-10T05:42:39.044491",
     "status": "completed"
    },
    "tags": []
   },
   "outputs": [],
   "source": [
    "X_train, X_val, y_train, y_val = train_test_split(X_train, y_train, test_size=0.1, random_state=101)"
   ]
  },
  {
   "cell_type": "markdown",
   "id": "77f8dc2f",
   "metadata": {
    "papermill": {
     "duration": 0.004729,
     "end_time": "2025-03-10T05:42:40.020571",
     "exception": false,
     "start_time": "2025-03-10T05:42:40.015842",
     "status": "completed"
    },
    "tags": []
   },
   "source": [
    "## 4. Load Pretrained Models (GoogLeNet/InceptionV3 and ResNet)\n"
   ]
  },
  {
   "cell_type": "markdown",
   "id": "88d0b648",
   "metadata": {
    "papermill": {
     "duration": 0.004401,
     "end_time": "2025-03-10T05:42:40.029668",
     "exception": false,
     "start_time": "2025-03-10T05:42:40.025267",
     "status": "completed"
    },
    "tags": []
   },
   "source": [
    "# We use GoogLeNet (InceptionV3) as our feature extractor\n",
    "# The model is pretrained on ImageNet and is fine-tuned for our brain tumor classification task\n"
   ]
  },
  {
   "cell_type": "code",
   "execution_count": 7,
   "id": "6a2bd951",
   "metadata": {
    "execution": {
     "iopub.execute_input": "2025-03-10T05:42:40.039738Z",
     "iopub.status.busy": "2025-03-10T05:42:40.039503Z",
     "iopub.status.idle": "2025-03-10T05:42:44.250554Z",
     "shell.execute_reply": "2025-03-10T05:42:44.249586Z"
    },
    "papermill": {
     "duration": 4.217976,
     "end_time": "2025-03-10T05:42:44.252260",
     "exception": false,
     "start_time": "2025-03-10T05:42:40.034284",
     "status": "completed"
    },
    "tags": []
   },
   "outputs": [
    {
     "name": "stdout",
     "output_type": "stream",
     "text": [
      "Downloading data from https://storage.googleapis.com/tensorflow/keras-applications/inception_v3/inception_v3_weights_tf_dim_ordering_tf_kernels_notop.h5\n",
      "\u001b[1m87910968/87910968\u001b[0m \u001b[32m━━━━━━━━━━━━━━━━━━━━\u001b[0m\u001b[37m\u001b[0m \u001b[1m0s\u001b[0m 0us/step\n"
     ]
    }
   ],
   "source": [
    "base_model = InceptionV3(weights='imagenet', include_top=False, input_shape=(image_size, image_size, 3))\n",
    "base_model.trainable = False  # Freeze the base model layers to retain pretrained features\n"
   ]
  },
  {
   "cell_type": "markdown",
   "id": "9b84d3e2",
   "metadata": {
    "papermill": {
     "duration": 0.004973,
     "end_time": "2025-03-10T05:42:44.262941",
     "exception": false,
     "start_time": "2025-03-10T05:42:44.257968",
     "status": "completed"
    },
    "tags": []
   },
   "source": [
    "# Add custom layers for brain tumor classification"
   ]
  },
  {
   "cell_type": "code",
   "execution_count": 8,
   "id": "63b16462",
   "metadata": {
    "execution": {
     "iopub.execute_input": "2025-03-10T05:42:44.273951Z",
     "iopub.status.busy": "2025-03-10T05:42:44.273709Z",
     "iopub.status.idle": "2025-03-10T05:42:44.303774Z",
     "shell.execute_reply": "2025-03-10T05:42:44.303156Z"
    },
    "papermill": {
     "duration": 0.037021,
     "end_time": "2025-03-10T05:42:44.305002",
     "exception": false,
     "start_time": "2025-03-10T05:42:44.267981",
     "status": "completed"
    },
    "tags": []
   },
   "outputs": [],
   "source": [
    "global_avg = GlobalAveragePooling2D()(base_model.output)\n",
    "dropout = Dropout(0.4)(global_avg)\n",
    "out_layer = Dense(4, activation='softmax')(dropout)\n",
    "model = Model(inputs=base_model.input, outputs=out_layer)"
   ]
  },
  {
   "cell_type": "markdown",
   "id": "4c5bf36d",
   "metadata": {
    "papermill": {
     "duration": 0.005077,
     "end_time": "2025-03-10T05:42:44.315155",
     "exception": false,
     "start_time": "2025-03-10T05:42:44.310078",
     "status": "completed"
    },
    "tags": []
   },
   "source": [
    "## 5. Compile and Train Model\n"
   ]
  },
  {
   "cell_type": "markdown",
   "id": "bdbbbf46",
   "metadata": {
    "papermill": {
     "duration": 0.004899,
     "end_time": "2025-03-10T05:42:44.325270",
     "exception": false,
     "start_time": "2025-03-10T05:42:44.320371",
     "status": "completed"
    },
    "tags": []
   },
   "source": [
    "# The model is compiled using the Adam optimizer and categorical cross-entropy loss function\n",
    "# The training process uses 10 epochs with batch size of 32"
   ]
  },
  {
   "cell_type": "code",
   "execution_count": 9,
   "id": "80fbf99f",
   "metadata": {
    "execution": {
     "iopub.execute_input": "2025-03-10T05:42:44.336320Z",
     "iopub.status.busy": "2025-03-10T05:42:44.336066Z",
     "iopub.status.idle": "2025-03-10T05:42:44.347041Z",
     "shell.execute_reply": "2025-03-10T05:42:44.346475Z"
    },
    "papermill": {
     "duration": 0.017756,
     "end_time": "2025-03-10T05:42:44.348106",
     "exception": false,
     "start_time": "2025-03-10T05:42:44.330350",
     "status": "completed"
    },
    "tags": []
   },
   "outputs": [],
   "source": [
    "model.compile(loss='categorical_crossentropy', optimizer='adam', metrics=['accuracy'])\n"
   ]
  },
  {
   "cell_type": "markdown",
   "id": "dbab8c56",
   "metadata": {
    "papermill": {
     "duration": 0.005126,
     "end_time": "2025-03-10T05:42:44.358452",
     "exception": false,
     "start_time": "2025-03-10T05:42:44.353326",
     "status": "completed"
    },
    "tags": []
   },
   "source": [
    "# Train the model with training data and validate using the validation dataset\n"
   ]
  },
  {
   "cell_type": "code",
   "execution_count": 10,
   "id": "fe02010c",
   "metadata": {
    "execution": {
     "iopub.execute_input": "2025-03-10T05:42:44.369578Z",
     "iopub.status.busy": "2025-03-10T05:42:44.369348Z",
     "iopub.status.idle": "2025-03-10T05:43:58.034767Z",
     "shell.execute_reply": "2025-03-10T05:43:58.034014Z"
    },
    "papermill": {
     "duration": 73.672606,
     "end_time": "2025-03-10T05:43:58.036319",
     "exception": false,
     "start_time": "2025-03-10T05:42:44.363713",
     "status": "completed"
    },
    "tags": []
   },
   "outputs": [
    {
     "name": "stdout",
     "output_type": "stream",
     "text": [
      "Epoch 1/10\n",
      "\u001b[1m81/81\u001b[0m \u001b[32m━━━━━━━━━━━━━━━━━━━━\u001b[0m\u001b[37m\u001b[0m \u001b[1m34s\u001b[0m 252ms/step - accuracy: 0.4692 - loss: 1.3164 - val_accuracy: 0.7213 - val_loss: 0.6139\n",
      "Epoch 2/10\n",
      "\u001b[1m81/81\u001b[0m \u001b[32m━━━━━━━━━━━━━━━━━━━━\u001b[0m\u001b[37m\u001b[0m \u001b[1m4s\u001b[0m 48ms/step - accuracy: 0.7336 - loss: 0.6847 - val_accuracy: 0.7979 - val_loss: 0.5252\n",
      "Epoch 3/10\n",
      "\u001b[1m81/81\u001b[0m \u001b[32m━━━━━━━━━━━━━━━━━━━━\u001b[0m\u001b[37m\u001b[0m \u001b[1m4s\u001b[0m 48ms/step - accuracy: 0.7670 - loss: 0.6003 - val_accuracy: 0.8467 - val_loss: 0.4342\n",
      "Epoch 4/10\n",
      "\u001b[1m81/81\u001b[0m \u001b[32m━━━━━━━━━━━━━━━━━━━━\u001b[0m\u001b[37m\u001b[0m \u001b[1m4s\u001b[0m 48ms/step - accuracy: 0.8015 - loss: 0.5058 - val_accuracy: 0.8188 - val_loss: 0.4398\n",
      "Epoch 5/10\n",
      "\u001b[1m81/81\u001b[0m \u001b[32m━━━━━━━━━━━━━━━━━━━━\u001b[0m\u001b[37m\u001b[0m \u001b[1m4s\u001b[0m 48ms/step - accuracy: 0.8116 - loss: 0.4788 - val_accuracy: 0.8676 - val_loss: 0.3868\n",
      "Epoch 6/10\n",
      "\u001b[1m81/81\u001b[0m \u001b[32m━━━━━━━━━━━━━━━━━━━━\u001b[0m\u001b[37m\u001b[0m \u001b[1m4s\u001b[0m 48ms/step - accuracy: 0.8454 - loss: 0.4022 - val_accuracy: 0.8432 - val_loss: 0.3865\n",
      "Epoch 7/10\n",
      "\u001b[1m81/81\u001b[0m \u001b[32m━━━━━━━━━━━━━━━━━━━━\u001b[0m\u001b[37m\u001b[0m \u001b[1m4s\u001b[0m 47ms/step - accuracy: 0.8500 - loss: 0.4234 - val_accuracy: 0.8641 - val_loss: 0.3786\n",
      "Epoch 8/10\n",
      "\u001b[1m81/81\u001b[0m \u001b[32m━━━━━━━━━━━━━━━━━━━━\u001b[0m\u001b[37m\u001b[0m \u001b[1m4s\u001b[0m 47ms/step - accuracy: 0.8457 - loss: 0.4044 - val_accuracy: 0.8780 - val_loss: 0.3565\n",
      "Epoch 9/10\n",
      "\u001b[1m81/81\u001b[0m \u001b[32m━━━━━━━━━━━━━━━━━━━━\u001b[0m\u001b[37m\u001b[0m \u001b[1m4s\u001b[0m 47ms/step - accuracy: 0.8528 - loss: 0.3795 - val_accuracy: 0.8676 - val_loss: 0.3452\n",
      "Epoch 10/10\n",
      "\u001b[1m81/81\u001b[0m \u001b[32m━━━━━━━━━━━━━━━━━━━━\u001b[0m\u001b[37m\u001b[0m \u001b[1m4s\u001b[0m 48ms/step - accuracy: 0.8546 - loss: 0.3776 - val_accuracy: 0.8676 - val_loss: 0.3481\n"
     ]
    }
   ],
   "source": [
    "history = model.fit(X_train, y_train, validation_data=(X_val, y_val), epochs=10, batch_size=32)\n"
   ]
  },
  {
   "cell_type": "markdown",
   "id": "905da3cc",
   "metadata": {
    "papermill": {
     "duration": 0.024971,
     "end_time": "2025-03-10T05:43:58.088457",
     "exception": false,
     "start_time": "2025-03-10T05:43:58.063486",
     "status": "completed"
    },
    "tags": []
   },
   "source": [
    "## 6. Plot Training History\n"
   ]
  },
  {
   "cell_type": "markdown",
   "id": "5a03080b",
   "metadata": {
    "papermill": {
     "duration": 0.024147,
     "end_time": "2025-03-10T05:43:58.136762",
     "exception": false,
     "start_time": "2025-03-10T05:43:58.112615",
     "status": "completed"
    },
    "tags": []
   },
   "source": [
    "# Visualize the model's performance by plotting training and validation accuracy over epochs"
   ]
  },
  {
   "cell_type": "code",
   "execution_count": 11,
   "id": "30b3a29a",
   "metadata": {
    "execution": {
     "iopub.execute_input": "2025-03-10T05:43:58.186875Z",
     "iopub.status.busy": "2025-03-10T05:43:58.186573Z",
     "iopub.status.idle": "2025-03-10T05:43:58.470898Z",
     "shell.execute_reply": "2025-03-10T05:43:58.470056Z"
    },
    "papermill": {
     "duration": 0.311215,
     "end_time": "2025-03-10T05:43:58.472215",
     "exception": false,
     "start_time": "2025-03-10T05:43:58.161000",
     "status": "completed"
    },
    "tags": []
   },
   "outputs": [
    {
     "data": {
      "image/png": "[encoded data removed]",
      "text/plain": [
       "<Figure size 1400x700 with 1 Axes>"
      ]
     },
     "metadata": {},
     "output_type": "display_data"
    }
   ],
   "source": [
    "def plot_history(history):\n",
    "    plt.figure(figsize=(14, 7))\n",
    "    plt.plot(history.history['accuracy'], label='Training Accuracy', color='red')\n",
    "    plt.plot(history.history['val_accuracy'], label='Validation Accuracy', color='blue')\n",
    "    plt.legend()\n",
    "    plt.xlabel('Epochs')\n",
    "    plt.ylabel('Accuracy')\n",
    "    plt.title('Model Accuracy Over Epochs')\n",
    "    plt.show()\n",
    "\n",
    "plot_history(history)"
   ]
  },
  {
   "cell_type": "markdown",
   "id": "ea527ead",
   "metadata": {
    "papermill": {
     "duration": 0.024819,
     "end_time": "2025-03-10T05:43:58.522646",
     "exception": false,
     "start_time": "2025-03-10T05:43:58.497827",
     "status": "completed"
    },
    "tags": []
   },
   "source": [
    "## 7. Prediction Function\n"
   ]
  },
  {
   "cell_type": "markdown",
   "id": "17db789c",
   "metadata": {
    "papermill": {
     "duration": 0.024863,
     "end_time": "2025-03-10T05:43:58.572519",
     "exception": false,
     "start_time": "2025-03-10T05:43:58.547656",
     "status": "completed"
    },
    "tags": []
   },
   "source": [
    "# Define a function to classify an MRI image using the trained model\n",
    "# The image is preprocessed and passed through the model to predict tumor type"
   ]
  },
  {
   "cell_type": "code",
   "execution_count": 12,
   "id": "6123679f",
   "metadata": {
    "execution": {
     "iopub.execute_input": "2025-03-10T05:43:58.623435Z",
     "iopub.status.busy": "2025-03-10T05:43:58.623133Z",
     "iopub.status.idle": "2025-03-10T05:43:58.627200Z",
     "shell.execute_reply": "2025-03-10T05:43:58.626566Z"
    },
    "papermill": {
     "duration": 0.030972,
     "end_time": "2025-03-10T05:43:58.628358",
     "exception": false,
     "start_time": "2025-03-10T05:43:58.597386",
     "status": "completed"
    },
    "tags": []
   },
   "outputs": [],
   "source": [
    "def predict_image(image_path, model):\n",
    "    img = cv2.imread(image_path)\n",
    "    if img is None:\n",
    "        print(f\"Error: Could not read image - {image_path}\")\n",
    "        return None\n",
    "    img = cv2.resize(img, (image_size, image_size))\n",
    "    img = np.expand_dims(img / 255.0, axis=0)  # Normalize and reshape\n",
    "    pred = model.predict(img)\n",
    "    return labels[np.argmax(pred)]"
   ]
  },
  {
   "cell_type": "markdown",
   "id": "477cf742",
   "metadata": {
    "papermill": {
     "duration": 0.024729,
     "end_time": "2025-03-10T05:43:58.678099",
     "exception": false,
     "start_time": "2025-03-10T05:43:58.653370",
     "status": "completed"
    },
    "tags": []
   },
   "source": [
    "## 8. Example Prediction\n"
   ]
  },
  {
   "cell_type": "markdown",
   "id": "eb771762",
   "metadata": {
    "papermill": {
     "duration": 0.024535,
     "end_time": "2025-03-10T05:43:58.727503",
     "exception": false,
     "start_time": "2025-03-10T05:43:58.702968",
     "status": "completed"
    },
    "tags": []
   },
   "source": [
    "# Test the model with a sample MRI image from the dataset\n",
    "# The output will indicate whether the image is classified as glioma, meningioma, pituitary tumor, or no tumor"
   ]
  },
  {
   "cell_type": "code",
   "execution_count": 13,
   "id": "ef59d2a1",
   "metadata": {
    "execution": {
     "iopub.execute_input": "2025-03-10T05:43:58.778075Z",
     "iopub.status.busy": "2025-03-10T05:43:58.777816Z",
     "iopub.status.idle": "2025-03-10T05:44:04.543000Z",
     "shell.execute_reply": "2025-03-10T05:44:04.542127Z"
    },
    "papermill": {
     "duration": 5.792195,
     "end_time": "2025-03-10T05:44:04.544417",
     "exception": false,
     "start_time": "2025-03-10T05:43:58.752222",
     "status": "completed"
    },
    "tags": []
   },
   "outputs": [
    {
     "name": "stdout",
     "output_type": "stream",
     "text": [
      "\u001b[1m1/1\u001b[0m \u001b[32m━━━━━━━━━━━━━━━━━━━━\u001b[0m\u001b[37m\u001b[0m \u001b[1m6s\u001b[0m 6s/step\n",
      "Predicted Tumor Type: pituitary_tumor\n"
     ]
    }
   ],
   "source": [
    "sample_image = '/kaggle/input/brain-tumor-classification-mri/Training/pituitary_tumor/p (103).jpg'\n",
    "predicted_label = predict_image(sample_image, model)\n",
    "if predicted_label:\n",
    "    print(\"Predicted Tumor Type:\", predicted_label)"
   ]
  }
 ],
 "metadata": {
  "kaggle": {
   "accelerator": "gpu",
   "dataSources": [
    {
     "datasetId": 672377,
     "sourceId": 1183165,
     "sourceType": "datasetVersion"
    }
   ],
   "dockerImageVersionId": 30919,
   "isGpuEnabled": true,
   "isInternetEnabled": true,
   "language": "python",
   "sourceType": "notebook"
  },
  "kernelspec": {
   "display_name": "Python 3",
   "language": "python",
   "name": "python3"
  },
  "language_info": {
   "codemirror_mode": {
    "name": "ipython",
    "version": 3
   },
   "file_extension": ".py",
   "mimetype": "text/x-python",
   "name": "python",
   "nbconvert_exporter": "python",
   "pygments_lexer": "ipython3",
   "version": "3.10.12"
  },
  "papermill": {
   "default_parameters": {},
   "duration": 128.84831,
   "end_time": "2025-03-10T05:44:07.877829",
   "environment_variables": {},
   "exception": null,
   "input_path": "__notebook__.ipynb",
   "output_path": "__notebook__.ipynb",
   "parameters": {},
   "start_time": "2025-03-10T05:41:59.029519",
   "version": "2.6.0"
  }
 },
 "nbformat": 4,
 "nbformat_minor": 5
}
